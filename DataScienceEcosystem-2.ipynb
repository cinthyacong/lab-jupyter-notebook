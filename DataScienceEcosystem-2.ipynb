{
 "cells": [
  {
   "cell_type": "markdown",
   "id": "2602e61f-0ebc-4946-a11c-a18f933b3cfb",
   "metadata": {},
   "source": [
    "# Data Science Tools and Ecosystem"
   ]
  },
  {
   "cell_type": "markdown",
   "id": "75b0662f-c66f-4142-9b15-91e3120089d0",
   "metadata": {},
   "source": [
    "In this notebook, Data Science Tools and Ecosystem are summarized."
   ]
  },
  {
   "cell_type": "markdown",
   "id": "8e710bf1-2f42-49f0-a50d-93319bae4bf3",
   "metadata": {},
   "source": [
    "__Objectives:__\n",
    "\n",
    "- Know the tools that Data Science uses\n",
    "- Learn the benefits of Python for Data Science\n",
    "- Develop skills to use GIT and GitHub"
   ]
  },
  {
   "cell_type": "markdown",
   "id": "614ddc84-ae1e-43fe-ab0d-7f23f46487c7",
   "metadata": {},
   "source": [
    "Some of the popular languages that Data Scientists use are:\n",
    "\n",
    "1. Python\n",
    "2. R\n",
    "3. Julia"
   ]
  },
  {
   "cell_type": "markdown",
   "id": "03599205-e651-4ec6-91bf-5b8f080ab33b",
   "metadata": {},
   "source": [
    "Some of the commonly used libraries used by Data Scientists include:\n",
    "\n",
    "1. pandas\n",
    "2. numpy\n",
    "3. matplotlib \n",
    "4. seaboard "
   ]
  },
  {
   "cell_type": "markdown",
   "id": "936857a7-dbcc-4ddf-8f2a-800b02eb2e10",
   "metadata": {},
   "source": [
    "| Data Science Tools |\n",
    "|--------------------|\n",
    "|GIT|\n",
    "|Apache Spark|\n",
    "|SQL|"
   ]
  },
  {
   "cell_type": "markdown",
   "id": "be69a564-bead-4ce5-9420-ab5fee5a5084",
   "metadata": {},
   "source": [
    "### Below are a few examples of evaluating arithmetic expressions in Python"
   ]
  },
  {
   "cell_type": "code",
   "execution_count": 21,
   "id": "29310b5b-c5d4-41d4-b882-7d24517da31e",
   "metadata": {},
   "outputs": [
    {
     "data": {
      "text/plain": [
       "17"
      ]
     },
     "execution_count": 21,
     "metadata": {},
     "output_type": "execute_result"
    }
   ],
   "source": [
    "(3*4)+5"
   ]
  },
  {
   "cell_type": "markdown",
   "id": "73ef7597-b6aa-45f3-b490-c7cd98cc217a",
   "metadata": {},
   "source": [
    "This a simple arithmetic expression to mutiply then add integers"
   ]
  },
  {
   "cell_type": "code",
   "execution_count": null,
   "id": "8ec3e01f-a39f-4d98-b089-c9b144f3ff47",
   "metadata": {},
   "outputs": [],
   "source": []
  },
  {
   "cell_type": "code",
   "execution_count": 24,
   "id": "42e99dca-bb3b-4747-ad83-2a0efc5476bb",
   "metadata": {},
   "outputs": [
    {
     "data": {
      "text/plain": [
       "3.3333333333333335"
      ]
     },
     "execution_count": 24,
     "metadata": {},
     "output_type": "execute_result"
    }
   ],
   "source": [
    "200/60"
   ]
  },
  {
   "cell_type": "markdown",
   "id": "e81e5aaa-59ef-44ba-9ac6-a4688303a484",
   "metadata": {},
   "source": [
    "This will convert 200 minutes to hours by diving by 60\n"
   ]
  },
  {
   "cell_type": "markdown",
   "id": "4db9a352-89c4-4360-b205-3c8616047961",
   "metadata": {},
   "source": [
    "## Autor"
   ]
  },
  {
   "cell_type": "markdown",
   "id": "b168352e-7faf-4b51-b4f3-35fd134a05c2",
   "metadata": {},
   "source": [
    "Cinthya Cong Torres"
   ]
  },
  {
   "cell_type": "code",
   "execution_count": null,
   "id": "97dcdf3a-3fe0-4aba-9540-2bb617bb9062",
   "metadata": {},
   "outputs": [],
   "source": []
  }
 ],
 "metadata": {
  "kernelspec": {
   "display_name": "Python [conda env:base] *",
   "language": "python",
   "name": "conda-base-py"
  },
  "language_info": {
   "codemirror_mode": {
    "name": "ipython",
    "version": 3
   },
   "file_extension": ".py",
   "mimetype": "text/x-python",
   "name": "python",
   "nbconvert_exporter": "python",
   "pygments_lexer": "ipython3",
   "version": "3.12.7"
  }
 },
 "nbformat": 4,
 "nbformat_minor": 5
}
